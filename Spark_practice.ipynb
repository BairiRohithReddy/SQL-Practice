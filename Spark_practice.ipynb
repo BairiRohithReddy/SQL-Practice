{
  "nbformat": 4,
  "nbformat_minor": 0,
  "metadata": {
    "colab": {
      "provenance": []
    },
    "kernelspec": {
      "name": "python3",
      "display_name": "Python 3"
    },
    "language_info": {
      "name": "python"
    }
  },
  "cells": [
    {
      "cell_type": "markdown",
      "source": [
        "# **Leetcode - SQL**\n",
        "181.Find employees who earn more than their managers"
      ],
      "metadata": {
        "id": "XribfB-AsrXn"
      }
    },
    {
      "cell_type": "code",
      "execution_count": 3,
      "metadata": {
        "id": "gY17qE1Doq11"
      },
      "outputs": [],
      "source": [
        "from pyspark.sql.functions import *\n",
        "from pyspark.sql.types import *\n",
        "from pyspark.sql import SparkSession"
      ]
    },
    {
      "cell_type": "code",
      "source": [
        "empSchema = StructType([\n",
        "    StructField('id', IntegerType(), True),\n",
        "    StructField('name', StringType(), True),\n",
        "    StructField('salary', IntegerType(), True),\n",
        "    StructField(\"managerid\", IntegerType(), True)\n",
        "                        ])"
      ],
      "metadata": {
        "id": "lq4NxbEfozDp"
      },
      "execution_count": 5,
      "outputs": []
    },
    {
      "cell_type": "code",
      "source": [
        "emp =[\n",
        "    (1, 'Joe', 7000, 3),\n",
        "    (2, 'Henry',8000, 4),\n",
        "    (3, 'Sam',6000, None),\n",
        "    (4, 'Max', 9000, None)\n",
        "]"
      ],
      "metadata": {
        "id": "wFFNkSPBpt60"
      },
      "execution_count": 6,
      "outputs": []
    },
    {
      "cell_type": "code",
      "source": [
        "ss = SparkSession.builder.appName('employee').getOrCreate()\n",
        "emp_df = ss.createDataFrame(emp, empSchema)\n",
        "emp_df.show()"
      ],
      "metadata": {
        "id": "SIBU1s4yqOnq"
      },
      "execution_count": 7,
      "outputs": []
    },
    {
      "cell_type": "code",
      "source": [
        "rdf=emp_df.alias('e1').join(emp_df.alias('e2'),col('e1.managerid')==col('e2.id'))\n",
        "#rdf.show()\n",
        "rdf=rdf.filter(col('e1.salary')>col('e2.salary'))\n",
        "rdf.show()\n",
        "rdf.select(col('e1.name').alias('Employee')).show()"
      ],
      "metadata": {
        "colab": {
          "base_uri": "https://localhost:8080/"
        },
        "id": "pydaWAdKqoq6",
        "outputId": "db6a5af6-1231-4579-a2ef-e1e4cfe7def5"
      },
      "execution_count": 20,
      "outputs": [
        {
          "output_type": "stream",
          "name": "stdout",
          "text": [
            "+---+----+------+---------+---+----+------+---------+\n",
            "| id|name|salary|managerid| id|name|salary|managerid|\n",
            "+---+----+------+---------+---+----+------+---------+\n",
            "|  1| Joe|  7000|        3|  3| Sam|  6000|     NULL|\n",
            "+---+----+------+---------+---+----+------+---------+\n",
            "\n",
            "+--------+\n",
            "|Employee|\n",
            "+--------+\n",
            "|     Joe|\n",
            "+--------+\n",
            "\n"
          ]
        }
      ]
    },
    {
      "cell_type": "markdown",
      "source": [
        "LC-182 Duplicate Emails"
      ],
      "metadata": {
        "id": "22X4Y_oEtCsK"
      }
    },
    {
      "cell_type": "code",
      "source": [
        "# This is pyspark implementation of LC-182\n",
        "\n",
        "from pyspark.sql.functions import *\n",
        "from pyspark.sql import *\n",
        "from pyspark.sql.types import *\n",
        "\n",
        "ss = SparkSession.builder.appName('email').getOrCreate()\n",
        "\n",
        "emailSchema = StructType([\n",
        "    StructField('id', IntegerType(), True),\n",
        "    StructField('email', StringType(),True)\n",
        "])\n",
        "\n",
        "emails = [\n",
        "    (1, 'a@gmail.com'),\n",
        "    (2, 'b@gmail.com'),\n",
        "    (3, 'a@gmail.com')\n",
        "]\n",
        "\n",
        "email_df = ss.createDataFrame(emails, emailSchema)\n",
        "email_df.show()\n",
        "\n",
        "rdf = email_df.groupBy(col('email'))\n",
        "rdf = rdf.agg(count(col('id')).alias('count')).filter(col('count')>1)\n",
        "rdf.select(col('email')).show()"
      ],
      "metadata": {
        "colab": {
          "base_uri": "https://localhost:8080/"
        },
        "id": "8nZBmXBMrgxO",
        "outputId": "e5966eb3-1eed-41da-975b-a6104aad84d2"
      },
      "execution_count": 29,
      "outputs": [
        {
          "output_type": "stream",
          "name": "stdout",
          "text": [
            "+---+-----------+\n",
            "| id|      email|\n",
            "+---+-----------+\n",
            "|  1|a@gmail.com|\n",
            "|  2|b@gmail.com|\n",
            "|  3|a@gmail.com|\n",
            "+---+-----------+\n",
            "\n",
            "+-----------+\n",
            "|      email|\n",
            "+-----------+\n",
            "|a@gmail.com|\n",
            "+-----------+\n",
            "\n"
          ]
        }
      ]
    },
    {
      "cell_type": "markdown",
      "source": [
        "LC-183 Customers Who never Order"
      ],
      "metadata": {
        "id": "eT8Avuae7nFT"
      }
    },
    {
      "cell_type": "code",
      "source": [
        "from pyspark.sql import SparkSession\n",
        "from pyspark.sql.functions import *\n",
        "from pyspark.sql.types import *\n",
        "\n",
        "ss = SparkSession.builder.appName('customers').getOrCreate()\n",
        "\n",
        "custSchema = StructType([\n",
        "    StructField('id', IntegerType(), True),\n",
        "    StructField('name', StringType(), True)\n",
        "])\n",
        "\n",
        "orderSchema = StructType([\n",
        "    StructField('id', IntegerType(), True),\n",
        "    StructField('customerId', IntegerType(), True)\n",
        "])\n",
        "\n",
        "cust = [\n",
        "    (1, 'Joe'),\n",
        "    (2, 'Henry'),\n",
        "    (3, 'Max'),\n",
        "    (4, 'Sam')\n",
        "]\n",
        "\n",
        "order = [\n",
        "    (1, 3),\n",
        "    (2, 1)\n",
        "]\n",
        "\n",
        "cust_df = ss.createDataFrame(cust, custSchema)\n",
        "order_df = ss.createDataFrame(order, orderSchema)\n",
        "\n",
        "rdf = cust_df.alias('c').join(order_df.alias('o'), col('c.id')==col('o.customerId'), 'left')\n",
        "rdf.show()\n",
        "rdf = rdf.filter(col('o.id').isNull())\n",
        "rdf.select(col('name').alias('customers')).show()"
      ],
      "metadata": {
        "colab": {
          "base_uri": "https://localhost:8080/"
        },
        "id": "mQrL27wW2MAq",
        "outputId": "7fc1b929-5cbe-4904-bf09-44040657f828"
      },
      "execution_count": 33,
      "outputs": [
        {
          "output_type": "stream",
          "name": "stdout",
          "text": [
            "+---+-----+----+----------+\n",
            "| id| name|  id|customerId|\n",
            "+---+-----+----+----------+\n",
            "|  1|  Joe|   2|         1|\n",
            "|  2|Henry|NULL|      NULL|\n",
            "|  3|  Max|   1|         3|\n",
            "|  4|  Sam|NULL|      NULL|\n",
            "+---+-----+----+----------+\n",
            "\n",
            "+---------+\n",
            "|customers|\n",
            "+---------+\n",
            "|    Henry|\n",
            "|      Sam|\n",
            "+---------+\n",
            "\n"
          ]
        }
      ]
    },
    {
      "cell_type": "markdown",
      "source": [
        "LC-196 Delete Duplicate Emails"
      ],
      "metadata": {
        "id": "XNA6dBwdFfIG"
      }
    },
    {
      "cell_type": "code",
      "source": [
        "from pyspark.sql import SparkSession\n",
        "from pyspark.sql.functions import *\n",
        "from pyspark.sql.types import *\n",
        "\n",
        "ss = SparkSession.builder.appName('duplicate_emails').getOrCreate()\n",
        "\n",
        "email = [\n",
        "    (1, 'a@gmail.com'),\n",
        "    (2, 'b@gmail.com'),\n",
        "    (3, 'a@gmail.com')\n",
        "]\n",
        "\n",
        "'''\n",
        "here the expected output is\n",
        "(1, a@gmail.com)\n",
        "(2, b@gmail.com)\n",
        "we only fetch the record with min id and delete all other duplicates of this record\n",
        "'''\n",
        "\n",
        "emailSchema = StructType([\n",
        "    StructField('id', IntegerType(), True),\n",
        "    StructField('email', StringType(), True)\n",
        "])\n",
        "\n",
        "email_df = ss.createDataFrame(email, emailSchema)\n",
        "email_df.show()"
      ],
      "metadata": {
        "colab": {
          "base_uri": "https://localhost:8080/"
        },
        "id": "2NKUxVuC7uRQ",
        "outputId": "3b2bd7f7-5950-4c8f-e667-3f46a41a84fa"
      },
      "execution_count": 35,
      "outputs": [
        {
          "output_type": "stream",
          "name": "stdout",
          "text": [
            "+---+-----------+\n",
            "| id|      email|\n",
            "+---+-----------+\n",
            "|  1|a@gmail.com|\n",
            "|  2|b@gmail.com|\n",
            "|  3|a@gmail.com|\n",
            "+---+-----------+\n",
            "\n"
          ]
        }
      ]
    },
    {
      "cell_type": "code",
      "source": [
        "rdf = email_df.alias('e1').join(email_df.alias('e2'),col('e1.email')==col('e2.email'), 'left')\n",
        "rdf.show()\n",
        "rdf = rdf.filter(col('e1.id')>col('e2.id')).select('e1.id', 'e1.email')\n",
        "rdf.show()\n",
        "result = email_df.join(rdf, (email_df.id == rdf.id) & (email_df.email == rdf.email), 'left_anti')\n",
        "result.show()"
      ],
      "metadata": {
        "colab": {
          "base_uri": "https://localhost:8080/"
        },
        "id": "yIT0JL0iFirg",
        "outputId": "45e7f8b9-f1c2-4d87-ddf6-7f24a221d05c"
      },
      "execution_count": 47,
      "outputs": [
        {
          "output_type": "stream",
          "name": "stdout",
          "text": [
            "+---+-----------+---+-----------+\n",
            "| id|      email| id|      email|\n",
            "+---+-----------+---+-----------+\n",
            "|  1|a@gmail.com|  3|a@gmail.com|\n",
            "|  1|a@gmail.com|  1|a@gmail.com|\n",
            "|  3|a@gmail.com|  3|a@gmail.com|\n",
            "|  3|a@gmail.com|  1|a@gmail.com|\n",
            "|  2|b@gmail.com|  2|b@gmail.com|\n",
            "+---+-----------+---+-----------+\n",
            "\n",
            "+---+-----------+\n",
            "| id|      email|\n",
            "+---+-----------+\n",
            "|  3|a@gmail.com|\n",
            "+---+-----------+\n",
            "\n",
            "+---+-----------+\n",
            "| id|      email|\n",
            "+---+-----------+\n",
            "|  1|a@gmail.com|\n",
            "|  2|b@gmail.com|\n",
            "+---+-----------+\n",
            "\n"
          ]
        }
      ]
    },
    {
      "cell_type": "code",
      "source": [],
      "metadata": {
        "id": "z_dQ8_1WGLA9"
      },
      "execution_count": null,
      "outputs": []
    }
  ]
}